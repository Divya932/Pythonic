{
 "cells": [
  {
   "cell_type": "code",
   "execution_count": 5,
   "metadata": {},
   "outputs": [
    {
     "data": {
      "text/plain": [
       "0"
      ]
     },
     "execution_count": 5,
     "metadata": {},
     "output_type": "execute_result"
    }
   ],
   "source": [
    "def next_fibonacci():\n",
    "    prev1 = 0\n",
    "    prev2 = 1\n",
    "    cnt = 0\n",
    "    \n",
    "    def fib_generator():\n",
    "        nonlocal prev1\n",
    "        nonlocal prev2\n",
    "        nonlocal cnt\n",
    "        \n",
    "        cnt += 1\n",
    "        if cnt == 1:\n",
    "            return prev1\n",
    "        \n",
    "        elif cnt == 2:\n",
    "            return prev2\n",
    "        \n",
    "        else:\n",
    "            next_fib = prev1 + prev2\n",
    "            prev1 = prev2\n",
    "            prev2 = next_fib\n",
    "            \n",
    "            return next_fib\n",
    "        \n",
    "    return fib_generator\n",
    "\n",
    "\n",
    "next_fib = next_fibonacci()\n",
    "next_fib()"
   ]
  },
  {
   "cell_type": "code",
   "execution_count": null,
   "metadata": {},
   "outputs": [],
   "source": []
  },
  {
   "cell_type": "code",
   "execution_count": null,
   "metadata": {},
   "outputs": [],
   "source": []
  }
 ],
 "metadata": {
  "kernelspec": {
   "display_name": "Python 3",
   "language": "python",
   "name": "python3"
  },
  "language_info": {
   "codemirror_mode": {
    "name": "ipython",
    "version": 3
   },
   "file_extension": ".py",
   "mimetype": "text/x-python",
   "name": "python",
   "nbconvert_exporter": "python",
   "pygments_lexer": "ipython3",
   "version": "3.8.5"
  }
 },
 "nbformat": 4,
 "nbformat_minor": 4
}
