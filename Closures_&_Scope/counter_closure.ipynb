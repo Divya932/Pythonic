{
 "cells": [
  {
   "cell_type": "code",
   "execution_count": 10,
   "metadata": {},
   "outputs": [],
   "source": [
    "def call_counter():\n",
    "    \"\"\"\n",
    "    closure to count function calls\n",
    "    ----------\n",
    "    Params: None\n",
    "    ----------\n",
    "    Returns: function count_call\n",
    "    \"\"\"\n",
    "    global counts\n",
    "    counts = dict()\n",
    "    \n",
    "    def count_call(fn):\n",
    "        \"\"\"\n",
    "        counts how many times a function was called and updates the count in a dict\n",
    "        -----------\n",
    "        Parameters: Function\n",
    "        -----------\n",
    "        Returns: None\n",
    "        \n",
    "        \"\"\"\n",
    "        if fn.__name__ in counts.keys():\n",
    "            counts[fn.__name__] += 1\n",
    "            \n",
    "        else:\n",
    "            counts[fn.__name__] = 1\n",
    "            \n",
    "    return count_call\n",
    "\n",
    "\n",
    "def fn_add():\n",
    "    print(\"Add function\")\n",
    "\n",
    "def fn_mul():\n",
    "    print(\"Multiply Function\")\n",
    "    \n",
    "def fn_div():\n",
    "    print(\"Divide Function\")"
   ]
  },
  {
   "cell_type": "code",
   "execution_count": 11,
   "metadata": {},
   "outputs": [
    {
     "name": "stdout",
     "output_type": "stream",
     "text": [
      "{}\n"
     ]
    }
   ],
   "source": [
    "counter = call_counter()\n",
    "print(counts)"
   ]
  },
  {
   "cell_type": "code",
   "execution_count": 12,
   "metadata": {},
   "outputs": [
    {
     "name": "stdout",
     "output_type": "stream",
     "text": [
      "{'fn_add': 1}\n"
     ]
    }
   ],
   "source": [
    "counter(fn_add)\n",
    "print(counts)"
   ]
  },
  {
   "cell_type": "code",
   "execution_count": 13,
   "metadata": {},
   "outputs": [
    {
     "name": "stdout",
     "output_type": "stream",
     "text": [
      "{'fn_add': 2}\n"
     ]
    }
   ],
   "source": [
    "counter(fn_add)\n",
    "print(counts)"
   ]
  },
  {
   "cell_type": "code",
   "execution_count": 14,
   "metadata": {},
   "outputs": [
    {
     "name": "stdout",
     "output_type": "stream",
     "text": [
      "{'fn_add': 3}\n"
     ]
    }
   ],
   "source": [
    "counter(fn_add)\n",
    "print(counts)"
   ]
  },
  {
   "cell_type": "code",
   "execution_count": 15,
   "metadata": {},
   "outputs": [
    {
     "name": "stdout",
     "output_type": "stream",
     "text": [
      "{'fn_add': 6}\n"
     ]
    }
   ],
   "source": [
    "counter(fn_add), counter(fn_add), counter(fn_add)\n",
    "print(counts)"
   ]
  },
  {
   "cell_type": "code",
   "execution_count": 16,
   "metadata": {},
   "outputs": [
    {
     "name": "stdout",
     "output_type": "stream",
     "text": [
      "{'fn_add': 6, 'fn_mul': 1, 'fn_div': 2}\n"
     ]
    }
   ],
   "source": [
    "counter(fn_mul), counter(fn_div), counter(fn_div)\n",
    "print(counts)"
   ]
  },
  {
   "cell_type": "code",
   "execution_count": 17,
   "metadata": {},
   "outputs": [
    {
     "name": "stdout",
     "output_type": "stream",
     "text": [
      "{'fn_add': 7, 'fn_mul': 2, 'fn_div': 3}\n"
     ]
    }
   ],
   "source": [
    "counter(fn_add), counter(fn_mul), counter(fn_div)\n",
    "print(counts)"
   ]
  },
  {
   "cell_type": "markdown",
   "metadata": {},
   "source": [
    "## Passing and updating different dictionary variables"
   ]
  },
  {
   "cell_type": "code",
   "execution_count": 18,
   "metadata": {},
   "outputs": [],
   "source": [
    "def call_counter(*args, **kwargs):\n",
    "    global counts\n",
    "    \n",
    "    def count_call(fn):\n",
    "        nonlocal args\n",
    "        for dictionary in args:\n",
    "            counts = dictionary\n",
    "            if fn.__name__ in counts.keys():\n",
    "                counts[fn.__name__] += 1\n",
    "\n",
    "            else:\n",
    "                counts[fn.__name__] = 1\n",
    "            \n",
    "    return count_call\n",
    "\n",
    "\n",
    "def fn_add():\n",
    "    print(\"Add function\")\n",
    "\n",
    "def fn_mul():\n",
    "    print(\"Multiply Function\")\n",
    "    \n",
    "def fn_div():\n",
    "    print(\"Divide Function\")"
   ]
  },
  {
   "cell_type": "code",
   "execution_count": 20,
   "metadata": {},
   "outputs": [
    {
     "name": "stdout",
     "output_type": "stream",
     "text": [
      "{}\n",
      "{}\n"
     ]
    }
   ],
   "source": [
    "dict1, dict2 = dict(), dict()\n",
    "counter = call_counter(dict1, dict2)\n",
    "print(dict1)\n",
    "print(dict2)"
   ]
  },
  {
   "cell_type": "code",
   "execution_count": 21,
   "metadata": {},
   "outputs": [
    {
     "name": "stdout",
     "output_type": "stream",
     "text": [
      "{'fn_add': 2, 'fn_mul': 1, 'fn_div': 3}\n",
      "{'fn_add': 2, 'fn_mul': 1, 'fn_div': 3}\n"
     ]
    }
   ],
   "source": [
    "counter(fn_add), counter(fn_add), counter(fn_mul), counter(fn_div), counter(fn_div), counter(fn_div)\n",
    "print(dict1)\n",
    "print(dict2)"
   ]
  },
  {
   "cell_type": "code",
   "execution_count": null,
   "metadata": {},
   "outputs": [],
   "source": []
  }
 ],
 "metadata": {
  "kernelspec": {
   "display_name": "Python 3",
   "language": "python",
   "name": "python3"
  },
  "language_info": {
   "codemirror_mode": {
    "name": "ipython",
    "version": 3
   },
   "file_extension": ".py",
   "mimetype": "text/x-python",
   "name": "python",
   "nbconvert_exporter": "python",
   "pygments_lexer": "ipython3",
   "version": "3.8.5"
  }
 },
 "nbformat": 4,
 "nbformat_minor": 4
}
