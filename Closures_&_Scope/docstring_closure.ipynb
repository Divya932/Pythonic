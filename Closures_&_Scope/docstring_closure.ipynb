{
 "cells": [
  {
   "cell_type": "code",
   "execution_count": 9,
   "metadata": {},
   "outputs": [],
   "source": [
    "def docstring_cnt(fn):\n",
    "    min_len = 50\n",
    "    \n",
    "    def ds_counter():\n",
    "        if len(fn.__doc__) > min_len:\n",
    "            return True\n",
    "        else:\n",
    "            return False\n",
    "        \n",
    "    return ds_counter\n",
    "    \n",
    "    \n",
    "def my_func():\n",
    "    \"\"\"Hi This is my doc string.\n",
    "        Function to do nothing. Gets the length of its docstring checked against a minimum value.\n",
    "        ----------\n",
    "        Parameters: None\n",
    "        ----------\n",
    "        Returns: None\n",
    "        \n",
    "    \"\"\"\n",
    "    pass"
   ]
  },
  {
   "cell_type": "code",
   "execution_count": 10,
   "metadata": {},
   "outputs": [
    {
     "name": "stdout",
     "output_type": "stream",
     "text": [
      "Function has docstring of length greater than 50.\n"
     ]
    }
   ],
   "source": [
    "counter = docstring_cnt(my_func)\n",
    "ds_validity = counter()\n",
    "\n",
    "if ds_validity == True:\n",
    "    print(\"Function has docstring of length greater than 50.\")\n",
    "else:\n",
    "    print(\"Docstring shorter than min_len\")"
   ]
  },
  {
   "cell_type": "code",
   "execution_count": null,
   "metadata": {},
   "outputs": [],
   "source": []
  }
 ],
 "metadata": {
  "kernelspec": {
   "display_name": "Python 3",
   "language": "python",
   "name": "python3"
  },
  "language_info": {
   "codemirror_mode": {
    "name": "ipython",
    "version": 3
   },
   "file_extension": ".py",
   "mimetype": "text/x-python",
   "name": "python",
   "nbconvert_exporter": "python",
   "pygments_lexer": "ipython3",
   "version": "3.8.5"
  }
 },
 "nbformat": 4,
 "nbformat_minor": 4
}
